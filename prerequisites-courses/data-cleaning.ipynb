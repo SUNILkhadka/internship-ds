{
 "cells": [
  {
   "cell_type": "markdown",
   "id": "7e0ded0f-22f1-4f14-b660-a8bc70d32006",
   "metadata": {
    "tags": []
   },
   "source": [
    "# Data Cleaning\n",
    "resource: https://www.kaggle.com/learn/data-cleaning "
   ]
  },
  {
   "cell_type": "code",
   "execution_count": 1,
   "id": "8a1ce0b8-7f13-4f41-879c-8eca4eb2df5e",
   "metadata": {},
   "outputs": [],
   "source": [
    "import numpy as np\n",
    "import pandas as pd"
   ]
  },
  {
   "cell_type": "markdown",
   "id": "0eba70f4-643e-486b-895e-0300725ed250",
   "metadata": {
    "jp-MarkdownHeadingCollapsed": true,
    "tags": []
   },
   "source": [
    "### Part 1\n",
    "## Handling Missing Values\n",
    "Drop missing values, or fill them in with an automated workflow."
   ]
  },
  {
   "cell_type": "code",
   "execution_count": 2,
   "id": "859bab2a-f6c5-4ca7-aeb1-79d5bcbe0241",
   "metadata": {},
   "outputs": [],
   "source": [
    "data_df = pd.read_csv('Data/car-sales-extended-missing-data.csv')"
   ]
  },
  {
   "cell_type": "code",
   "execution_count": 4,
   "id": "603c4cac-3bb7-46bc-a991-da138fbfd467",
   "metadata": {},
   "outputs": [
    {
     "data": {
      "text/plain": [
       "(1000, 5)"
      ]
     },
     "execution_count": 4,
     "metadata": {},
     "output_type": "execute_result"
    }
   ],
   "source": [
    "data_df.shape"
   ]
  },
  {
   "cell_type": "code",
   "execution_count": 8,
   "id": "f9c610ad-bb96-4b98-9dd6-8c6a5afdefe6",
   "metadata": {},
   "outputs": [
    {
     "name": "stdout",
     "output_type": "stream",
     "text": [
      "<class 'pandas.core.frame.DataFrame'>\n",
      "RangeIndex: 1000 entries, 0 to 999\n",
      "Data columns (total 5 columns):\n",
      " #   Column         Non-Null Count  Dtype  \n",
      "---  ------         --------------  -----  \n",
      " 0   Make           951 non-null    object \n",
      " 1   Colour         950 non-null    object \n",
      " 2   Odometer (KM)  950 non-null    float64\n",
      " 3   Doors          950 non-null    float64\n",
      " 4   Price          950 non-null    float64\n",
      "dtypes: float64(3), object(2)\n",
      "memory usage: 39.2+ KB\n"
     ]
    }
   ],
   "source": [
    "data_df.info()"
   ]
  },
  {
   "cell_type": "code",
   "execution_count": 16,
   "id": "e49cfee6-71e1-4bf4-a660-696704ec2a38",
   "metadata": {},
   "outputs": [],
   "source": [
    "missing_count = data_df.isnull().sum()"
   ]
  },
  {
   "cell_type": "code",
   "execution_count": 17,
   "id": "493a6389-4b29-4b25-9862-19025d80299a",
   "metadata": {},
   "outputs": [
    {
     "data": {
      "text/plain": [
       "Make             49\n",
       "Colour           50\n",
       "Odometer (KM)    50\n",
       "Doors            50\n",
       "Price            50\n",
       "dtype: int64"
      ]
     },
     "execution_count": 17,
     "metadata": {},
     "output_type": "execute_result"
    }
   ],
   "source": [
    "missing_count"
   ]
  },
  {
   "cell_type": "code",
   "execution_count": 21,
   "id": "5e83e4e2-1016-4ca7-838a-902ac6d81d30",
   "metadata": {},
   "outputs": [],
   "source": [
    "total_cells = np.product(data_df.shape)"
   ]
  },
  {
   "cell_type": "code",
   "execution_count": 22,
   "id": "fa5cf329-11e6-4602-8f02-439efe5212d5",
   "metadata": {},
   "outputs": [],
   "source": [
    "missing_val = data_df.isnull().sum().sum()"
   ]
  },
  {
   "cell_type": "code",
   "execution_count": 25,
   "id": "63a8eef4-9dc4-4a3d-a8fe-47a8dcaf1321",
   "metadata": {},
   "outputs": [
    {
     "data": {
      "text/plain": [
       "4.9799999999999995"
      ]
     },
     "execution_count": 25,
     "metadata": {},
     "output_type": "execute_result"
    }
   ],
   "source": [
    "percentage = (missing_val/total_cells) * 100\n",
    "percentage"
   ]
  },
  {
   "cell_type": "code",
   "execution_count": 28,
   "id": "9e1d0b92-7725-42f2-9ee3-58528e54f7a6",
   "metadata": {},
   "outputs": [],
   "source": [
    "new_df = data_df.loc[:10,:'Doors']"
   ]
  },
  {
   "cell_type": "code",
   "execution_count": 34,
   "id": "79bf7fde-5705-4dd3-879e-21510e4e3b1a",
   "metadata": {},
   "outputs": [
    {
     "data": {
      "text/html": [
       "<div>\n",
       "<style scoped>\n",
       "    .dataframe tbody tr th:only-of-type {\n",
       "        vertical-align: middle;\n",
       "    }\n",
       "\n",
       "    .dataframe tbody tr th {\n",
       "        vertical-align: top;\n",
       "    }\n",
       "\n",
       "    .dataframe thead th {\n",
       "        text-align: right;\n",
       "    }\n",
       "</style>\n",
       "<table border=\"1\" class=\"dataframe\">\n",
       "  <thead>\n",
       "    <tr style=\"text-align: right;\">\n",
       "      <th></th>\n",
       "      <th>Make</th>\n",
       "      <th>Colour</th>\n",
       "      <th>Odometer (KM)</th>\n",
       "      <th>Doors</th>\n",
       "    </tr>\n",
       "  </thead>\n",
       "  <tbody>\n",
       "    <tr>\n",
       "      <th>0</th>\n",
       "      <td>Honda</td>\n",
       "      <td>White</td>\n",
       "      <td>35431.0</td>\n",
       "      <td>4.0</td>\n",
       "    </tr>\n",
       "    <tr>\n",
       "      <th>1</th>\n",
       "      <td>BMW</td>\n",
       "      <td>Blue</td>\n",
       "      <td>192714.0</td>\n",
       "      <td>5.0</td>\n",
       "    </tr>\n",
       "    <tr>\n",
       "      <th>2</th>\n",
       "      <td>Honda</td>\n",
       "      <td>White</td>\n",
       "      <td>84714.0</td>\n",
       "      <td>4.0</td>\n",
       "    </tr>\n",
       "    <tr>\n",
       "      <th>3</th>\n",
       "      <td>Toyota</td>\n",
       "      <td>White</td>\n",
       "      <td>154365.0</td>\n",
       "      <td>4.0</td>\n",
       "    </tr>\n",
       "    <tr>\n",
       "      <th>4</th>\n",
       "      <td>Nissan</td>\n",
       "      <td>Blue</td>\n",
       "      <td>181577.0</td>\n",
       "      <td>3.0</td>\n",
       "    </tr>\n",
       "    <tr>\n",
       "      <th>5</th>\n",
       "      <td>Honda</td>\n",
       "      <td>Red</td>\n",
       "      <td>42652.0</td>\n",
       "      <td>4.0</td>\n",
       "    </tr>\n",
       "    <tr>\n",
       "      <th>6</th>\n",
       "      <td>Toyota</td>\n",
       "      <td>Blue</td>\n",
       "      <td>163453.0</td>\n",
       "      <td>4.0</td>\n",
       "    </tr>\n",
       "    <tr>\n",
       "      <th>7</th>\n",
       "      <td>Honda</td>\n",
       "      <td>White</td>\n",
       "      <td>NaN</td>\n",
       "      <td>4.0</td>\n",
       "    </tr>\n",
       "    <tr>\n",
       "      <th>8</th>\n",
       "      <td>NaN</td>\n",
       "      <td>White</td>\n",
       "      <td>130538.0</td>\n",
       "      <td>4.0</td>\n",
       "    </tr>\n",
       "    <tr>\n",
       "      <th>9</th>\n",
       "      <td>Honda</td>\n",
       "      <td>Blue</td>\n",
       "      <td>51029.0</td>\n",
       "      <td>4.0</td>\n",
       "    </tr>\n",
       "    <tr>\n",
       "      <th>10</th>\n",
       "      <td>Nissan</td>\n",
       "      <td>White</td>\n",
       "      <td>167421.0</td>\n",
       "      <td>4.0</td>\n",
       "    </tr>\n",
       "  </tbody>\n",
       "</table>\n",
       "</div>"
      ],
      "text/plain": [
       "      Make Colour  Odometer (KM)  Doors\n",
       "0    Honda  White        35431.0    4.0\n",
       "1      BMW   Blue       192714.0    5.0\n",
       "2    Honda  White        84714.0    4.0\n",
       "3   Toyota  White       154365.0    4.0\n",
       "4   Nissan   Blue       181577.0    3.0\n",
       "5    Honda    Red        42652.0    4.0\n",
       "6   Toyota   Blue       163453.0    4.0\n",
       "7    Honda  White            NaN    4.0\n",
       "8      NaN  White       130538.0    4.0\n",
       "9    Honda   Blue        51029.0    4.0\n",
       "10  Nissan  White       167421.0    4.0"
      ]
     },
     "execution_count": 34,
     "metadata": {},
     "output_type": "execute_result"
    }
   ],
   "source": [
    "new_df"
   ]
  },
  {
   "cell_type": "code",
   "execution_count": 38,
   "id": "e84ac520-7b64-4edf-8c2d-415237a23e83",
   "metadata": {},
   "outputs": [
    {
     "data": {
      "text/html": [
       "<div>\n",
       "<style scoped>\n",
       "    .dataframe tbody tr th:only-of-type {\n",
       "        vertical-align: middle;\n",
       "    }\n",
       "\n",
       "    .dataframe tbody tr th {\n",
       "        vertical-align: top;\n",
       "    }\n",
       "\n",
       "    .dataframe thead th {\n",
       "        text-align: right;\n",
       "    }\n",
       "</style>\n",
       "<table border=\"1\" class=\"dataframe\">\n",
       "  <thead>\n",
       "    <tr style=\"text-align: right;\">\n",
       "      <th></th>\n",
       "      <th>Make</th>\n",
       "      <th>Colour</th>\n",
       "      <th>Odometer (KM)</th>\n",
       "      <th>Doors</th>\n",
       "    </tr>\n",
       "  </thead>\n",
       "  <tbody>\n",
       "    <tr>\n",
       "      <th>0</th>\n",
       "      <td>Honda</td>\n",
       "      <td>White</td>\n",
       "      <td>35431.0</td>\n",
       "      <td>4.0</td>\n",
       "    </tr>\n",
       "    <tr>\n",
       "      <th>1</th>\n",
       "      <td>BMW</td>\n",
       "      <td>Blue</td>\n",
       "      <td>192714.0</td>\n",
       "      <td>5.0</td>\n",
       "    </tr>\n",
       "    <tr>\n",
       "      <th>2</th>\n",
       "      <td>Honda</td>\n",
       "      <td>White</td>\n",
       "      <td>84714.0</td>\n",
       "      <td>4.0</td>\n",
       "    </tr>\n",
       "    <tr>\n",
       "      <th>3</th>\n",
       "      <td>Toyota</td>\n",
       "      <td>White</td>\n",
       "      <td>154365.0</td>\n",
       "      <td>4.0</td>\n",
       "    </tr>\n",
       "    <tr>\n",
       "      <th>4</th>\n",
       "      <td>Nissan</td>\n",
       "      <td>Blue</td>\n",
       "      <td>181577.0</td>\n",
       "      <td>3.0</td>\n",
       "    </tr>\n",
       "    <tr>\n",
       "      <th>5</th>\n",
       "      <td>Honda</td>\n",
       "      <td>Red</td>\n",
       "      <td>42652.0</td>\n",
       "      <td>4.0</td>\n",
       "    </tr>\n",
       "    <tr>\n",
       "      <th>6</th>\n",
       "      <td>Toyota</td>\n",
       "      <td>Blue</td>\n",
       "      <td>163453.0</td>\n",
       "      <td>4.0</td>\n",
       "    </tr>\n",
       "    <tr>\n",
       "      <th>7</th>\n",
       "      <td>Honda</td>\n",
       "      <td>White</td>\n",
       "      <td>163453.0</td>\n",
       "      <td>4.0</td>\n",
       "    </tr>\n",
       "    <tr>\n",
       "      <th>8</th>\n",
       "      <td>Honda</td>\n",
       "      <td>White</td>\n",
       "      <td>130538.0</td>\n",
       "      <td>4.0</td>\n",
       "    </tr>\n",
       "    <tr>\n",
       "      <th>9</th>\n",
       "      <td>Honda</td>\n",
       "      <td>Blue</td>\n",
       "      <td>51029.0</td>\n",
       "      <td>4.0</td>\n",
       "    </tr>\n",
       "    <tr>\n",
       "      <th>10</th>\n",
       "      <td>Nissan</td>\n",
       "      <td>White</td>\n",
       "      <td>167421.0</td>\n",
       "      <td>4.0</td>\n",
       "    </tr>\n",
       "  </tbody>\n",
       "</table>\n",
       "</div>"
      ],
      "text/plain": [
       "      Make Colour  Odometer (KM)  Doors\n",
       "0    Honda  White        35431.0    4.0\n",
       "1      BMW   Blue       192714.0    5.0\n",
       "2    Honda  White        84714.0    4.0\n",
       "3   Toyota  White       154365.0    4.0\n",
       "4   Nissan   Blue       181577.0    3.0\n",
       "5    Honda    Red        42652.0    4.0\n",
       "6   Toyota   Blue       163453.0    4.0\n",
       "7    Honda  White       163453.0    4.0\n",
       "8    Honda  White       130538.0    4.0\n",
       "9    Honda   Blue        51029.0    4.0\n",
       "10  Nissan  White       167421.0    4.0"
      ]
     },
     "execution_count": 38,
     "metadata": {},
     "output_type": "execute_result"
    }
   ],
   "source": [
    "new_df.fillna(method='ffill',axis=0)"
   ]
  },
  {
   "cell_type": "markdown",
   "id": "e8ceb370-7122-4b4f-96ff-dbf00663865b",
   "metadata": {
    "jp-MarkdownHeadingCollapsed": true,
    "tags": []
   },
   "source": [
    "### Part 2\n",
    "## Scaling and Normalization\n",
    "Transform numeric variables to have helpful properties.\n",
    "\n",
    "### Scipy\n",
    "FUNDAMENTAL ALGORITHMS :\n",
    "SciPy provides algorithms for optimization, integration, interpolation, eigenvalue problems, algebraic equations, differential equations, statistics and many other classes of problems.\n",
    "BROADLY APPLICABLE :\n",
    "The algorithms and data structures provided by SciPy are broadly applicable across domains.\n",
    "FOUNDATIONAL :\n",
    "Extends NumPy providing additional tools for array computing and provides specialized data structures, such as sparse matrices and k-dimensional trees.\n",
    "PERFORMANT :\n",
    "SciPy wraps highly-optimized implementations written in low-level languages like Fortran, C, and C++. Enjoy the flexibility of Python with the speed of compiled code."
   ]
  },
  {
   "cell_type": "code",
   "execution_count": 43,
   "id": "39f4bf3f-54b7-49c9-b96e-4cb4a19c4fb4",
   "metadata": {},
   "outputs": [],
   "source": [
    "from scipy import stats\n",
    "from mlxtend.preprocessing import minmax_scaling\n",
    "import matplotlib.pyplot as plt\n",
    "import seaborn as sns\n",
    "\n",
    "np.random.seed(80)"
   ]
  },
  {
   "cell_type": "code",
   "execution_count": 41,
   "id": "4a147049-bae4-40bd-b1fb-be0aff33ea26",
   "metadata": {},
   "outputs": [],
   "source": [
    "original_data = np.random.exponential(size = 1000)"
   ]
  },
  {
   "cell_type": "code",
   "execution_count": 45,
   "id": "36a60dd8-c180-467a-a6a5-1a651e0539d7",
   "metadata": {},
   "outputs": [],
   "source": [
    "scaled_data = minmax_scaling(original_data , columns=[0])"
   ]
  },
  {
   "cell_type": "markdown",
   "id": "b270bdb6-00d6-4663-90df-cd116d3c6a2a",
   "metadata": {},
   "source": [
    "Scaling "
   ]
  },
  {
   "cell_type": "code",
   "execution_count": 71,
   "id": "c593e3a8-6d5d-4e83-ae4c-fb65a2ac3153",
   "metadata": {},
   "outputs": [
    {
     "data": {
      "image/png": "[encoded data removed]",
      "text/plain": [
       "<Figure size 1080x216 with 2 Axes>"
      ]
     },
     "metadata": {
      "needs_background": "light"
     },
     "output_type": "display_data"
    }
   ],
   "source": [
    "fig, ax = plt.subplots(1,2,figsize=(15,3))\n",
    "sns.histplot(original_data,ax=ax[0],kde=True,legend=True)\n",
    "ax[0].set_title('Original data')\n",
    "\n",
    "sns.histplot(scaled_data,ax=ax[1],kde=True,legend=True)\n",
    "ax[1].set_title('Scaled data')\n",
    "plt.show()\n",
    "\n"
   ]
  },
  {
   "cell_type": "markdown",
   "id": "fc9e6069-fe3d-4fc2-8495-607ec774a5d9",
   "metadata": {},
   "source": [
    "Transformation"
   ]
  },
  {
   "cell_type": "code",
   "execution_count": 56,
   "id": "7fcf358d-5fe6-48ed-bb8f-caeda24ea898",
   "metadata": {},
   "outputs": [],
   "source": [
    "transformed_data = stats.boxcox(original_data)"
   ]
  },
  {
   "cell_type": "code",
   "execution_count": 65,
   "id": "34d7d9ad-ec3a-402d-804b-b4866e49e4f4",
   "metadata": {},
   "outputs": [
    {
     "data": {
      "text/plain": [
       "array([ 0.40096452,  0.8246919 , -0.0856056 , -1.29655   ,  0.60106516,\n",
       "       -1.75931549,  0.24281194,  0.21686761, -1.05329484, -0.55703839,\n",
       "        1.86797005,  0.71139696, -1.45270913,  0.82183215,  0.99315353,\n",
       "        0.48019837,  1.13707183,  0.66854657, -0.73254456, -0.44798458,\n",
       "       -0.18597129, -1.7180123 , -0.26813451, -1.82993703, -1.22299126,\n",
       "        0.32797224,  2.03192272,  0.02538347,  0.20148775, -1.40111949,\n",
       "        1.11572089, -1.3943253 , -0.2152625 , -0.52872972,  0.688928  ,\n",
       "        0.22106749, -0.15250513,  1.43988479, -0.85065063,  0.74444043,\n",
       "       -1.49203272, -0.18171424,  0.77770215, -0.19701133, -0.75691032,\n",
       "        0.88630495,  0.73419927, -0.77654914,  0.70935303, -0.57107124])"
      ]
     },
     "execution_count": 65,
     "metadata": {},
     "output_type": "execute_result"
    }
   ],
   "source": [
    "transformed_data[0][:50]"
   ]
  },
  {
   "cell_type": "code",
   "execution_count": 69,
   "id": "9285dfa7-ea32-4ba1-88d6-0b1e4b2837ae",
   "metadata": {},
   "outputs": [
    {
     "data": {
      "text/plain": [
       "array([1.46328324, 2.10532975, 0.91703293, 0.20261437, 1.74533017,\n",
       "       0.09181419, 1.26512872, 1.23460049, 0.28948199, 0.54676244,\n",
       "       4.53609887, 1.91679403, 0.15801299, 2.10041096, 2.41021353,\n",
       "       1.57064225, 2.69517342, 1.84880693, 0.44203576, 0.62031507,\n",
       "       0.82628969, 0.09925737, 0.7570309 , 0.08004255, 0.2265285 ,\n",
       "       1.36921352, 5.05019842, 1.02561944, 1.2167591 , 0.17185959,\n",
       "       2.65142206, 0.17374689, 0.8010906 , 0.56520785, 1.88092107,\n",
       "       1.23950555, 0.85578286, 3.37402459, 0.38035352, 1.97045323,\n",
       "       0.14801928, 0.82999955, 2.02556546, 0.81672509, 0.4287532 ,\n",
       "       2.21335917, 1.95370697, 0.41826132, 1.91351032, 0.53778358])"
      ]
     },
     "execution_count": 69,
     "metadata": {},
     "output_type": "execute_result"
    }
   ],
   "source": [
    "original_data[:50]"
   ]
  },
  {
   "cell_type": "code",
   "execution_count": 73,
   "id": "342520de-1322-4aaa-8e13-6be43ee56151",
   "metadata": {},
   "outputs": [
    {
     "data": {
      "image/png": "[encoded data removed]",
      "text/plain": [
       "<Figure size 1080x216 with 2 Axes>"
      ]
     },
     "metadata": {
      "needs_background": "light"
     },
     "output_type": "display_data"
    }
   ],
   "source": [
    "fig, ax = plt.subplots(1,2,figsize=(15,3))\n",
    "sns.histplot(original_data,ax=ax[0],kde=True,legend=True)\n",
    "ax[0].set_title('Probplot against normal distribution')\n",
    "\n",
    "sns.histplot(transformed_data,ax=ax[1],kde=True,legend=True)\n",
    "ax[1].set_title('Probplot after Box-Cox transformation')\n",
    "plt.show()"
   ]
  },
  {
   "cell_type": "code",
   "execution_count": 76,
   "id": "3d551eba-a2db-461f-a6eb-aac6600803e9",
   "metadata": {},
   "outputs": [
    {
     "data": {
      "text/plain": [
       "Text(0.5, 1.0, 'Probplot against normal distribution')"
      ]
     },
     "execution_count": 76,
     "metadata": {},
     "output_type": "execute_result"
    },
    {
     "data": {
      "image/png": "[encoded data removed]",
      "text/plain": [
       "<Figure size 432x288 with 1 Axes>"
      ]
     },
     "metadata": {
      "needs_background": "light"
     },
     "output_type": "display_data"
    }
   ],
   "source": [
    "fig = plt.figure()\n",
    "ax1 = fig.add_subplot(211)\n",
    "sns.histplot(original_data,ax=ax1,kde=True,legend=True)\n",
    "ax1.set_title('Probplot against normal distribution')"
   ]
  },
  {
   "cell_type": "markdown",
   "id": "5c23f95c-4323-470a-917b-64e953765b3d",
   "metadata": {
    "jp-MarkdownHeadingCollapsed": true,
    "tags": []
   },
   "source": [
    "### Part 3\n",
    "## Parsing Dates\n",
    "Help Python recognize dates as composed of day, month, and year."
   ]
  },
  {
   "cell_type": "code",
   "execution_count": 77,
   "id": "c4d20d4a-bf2e-4010-a4bf-fadeb321cd54",
   "metadata": {},
   "outputs": [],
   "source": [
    "import datetime as dt"
   ]
  },
  {
   "cell_type": "code",
   "execution_count": 88,
   "id": "a6fca8c3-5cdd-48db-9fc0-236325d2f0a1",
   "metadata": {},
   "outputs": [],
   "source": [
    "catalog_df = pd.read_csv('~/Documents/Internship/Github/internship-ds/prerequisites-courses/data/catalog.csv')"
   ]
  },
  {
   "cell_type": "code",
   "execution_count": 91,
   "id": "e897684c-59b8-4fba-9bbf-b6148800fad1",
   "metadata": {},
   "outputs": [
    {
     "data": {
      "text/plain": [
       "0     3/2/07\n",
       "1    3/22/07\n",
       "2     4/6/07\n",
       "3    4/14/07\n",
       "4    4/15/07\n",
       "Name: date, dtype: object"
      ]
     },
     "execution_count": 91,
     "metadata": {},
     "output_type": "execute_result"
    }
   ],
   "source": [
    "catalog_df.head()['date']"
   ]
  },
  {
   "cell_type": "code",
   "execution_count": 95,
   "id": "61454264-43ed-4b08-bda6-7c0183f87bff",
   "metadata": {},
   "outputs": [],
   "source": [
    "catalog_df['date']= pd.to_datetime(catalog_df['date'],format=\"%m/%d/%y\")"
   ]
  },
  {
   "cell_type": "markdown",
   "id": "914b2311-5b28-4394-afa8-b9e174628419",
   "metadata": {},
   "source": [
    "#### What if I run into an error with multiple date formats? \n",
    "> While we're specifying the date format here, sometimes you'll run into an error when there are multiple date formats in a single column. If that happens, you can have pandas try to infer what the right date format should be. You can do that like so:\n",
    "\n",
    "#### + catalog_df['date'] = pd.to_datetime(catalog_df['date'], infer_datetime_format=True)\n",
    "\n",
    "#### Why don't you always use infer_datetime_format = True? \n",
    "> There are two big reasons not to always have pandas guess the time format. The first is that pandas won't always been able to figure out the correct date format, especially if someone has gotten creative with data entry. The second is that it's much slower than specifying the exact format of the dates."
   ]
  },
  {
   "cell_type": "code",
   "execution_count": 98,
   "id": "57ffb52a-a7de-447a-9b9c-a44ac24f4ebb",
   "metadata": {},
   "outputs": [
    {
     "data": {
      "text/plain": [
       "0   2007-03-02\n",
       "1   2007-03-22\n",
       "2   2007-04-06\n",
       "3   2007-04-14\n",
       "4   2007-04-15\n",
       "Name: date, dtype: datetime64[ns]"
      ]
     },
     "execution_count": 98,
     "metadata": {},
     "output_type": "execute_result"
    }
   ],
   "source": [
    "catalog_df['date'][:5]"
   ]
  },
  {
   "cell_type": "code",
   "execution_count": 103,
   "id": "0932f3eb-7075-4a20-8b06-f9b24f5c6b3f",
   "metadata": {},
   "outputs": [],
   "source": [
    "month_data = catalog_df['date'].dt.month"
   ]
  },
  {
   "cell_type": "code",
   "execution_count": 104,
   "id": "48712430-a277-4f5c-87ae-3c318cd7d9d3",
   "metadata": {},
   "outputs": [
    {
     "data": {
      "text/plain": [
       "<AxesSubplot:xlabel='date', ylabel='Count'>"
      ]
     },
     "execution_count": 104,
     "metadata": {},
     "output_type": "execute_result"
    },
    {
     "data": {
      "image/png": "[encoded data removed]",
      "text/plain": [
       "<Figure size 432x288 with 1 Axes>"
      ]
     },
     "metadata": {
      "needs_background": "light"
     },
     "output_type": "display_data"
    }
   ],
   "source": [
    "sns.histplot(month_data,kde=False,bins=12)"
   ]
  },
  {
   "cell_type": "markdown",
   "id": "404036df-923d-4c42-aae3-afbc4717f815",
   "metadata": {},
   "source": [
    "### Part 4\n",
    "## Character Encodings\n",
    "Avoid UnicoodeDecodeErrors when loading CSV files."
   ]
  },
  {
   "cell_type": "code",
   "execution_count": 106,
   "id": "ee3a0ee0-45b5-4dc5-a1d3-516a25539673",
   "metadata": {},
   "outputs": [],
   "source": [
    "import chardet"
   ]
  },
  {
   "cell_type": "markdown",
   "id": "6d6cb317-89f9-4e11-b9aa-79a019186c80",
   "metadata": {
    "jp-MarkdownHeadingCollapsed": true,
    "tags": []
   },
   "source": [
    "### Part 3"
   ]
  },
  {
   "cell_type": "code",
   "execution_count": null,
   "id": "b7655466-a9f2-43e2-97fb-e991efe31040",
   "metadata": {},
   "outputs": [],
   "source": []
  }
 ],
 "metadata": {
  "kernelspec": {
   "display_name": "Python 3 (ipykernel)",
   "language": "python",
   "name": "python3"
  },
  "language_info": {
   "codemirror_mode": {
    "name": "ipython",
    "version": 3
   },
   "file_extension": ".py",
   "mimetype": "text/x-python",
   "name": "python",
   "nbconvert_exporter": "python",
   "pygments_lexer": "ipython3",
   "version": "3.9.7"
  }
 },
 "nbformat": 4,
 "nbformat_minor": 5
}
